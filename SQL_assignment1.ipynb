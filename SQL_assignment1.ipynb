{
 "cells": [
  {
   "cell_type": "markdown",
   "id": "bce57053",
   "metadata": {},
   "source": [
    "Q-1. Write an SQL query to fetch “FIRST_NAME” from Worker table using the alias name as WORKER_NAME.\n"
   ]
  },
  {
   "cell_type": "markdown",
   "id": "6715f0d3",
   "metadata": {},
   "source": [
    "Ans:"
   ]
  },
  {
   "cell_type": "code",
   "execution_count": 1,
   "id": "3c9f3a58",
   "metadata": {},
   "outputs": [
    {
     "name": "stdout",
     "output_type": "stream",
     "text": [
      "Requirement already satisfied: mysql-connector-python in c:\\users\\jijopinks\\anaconda3\\lib\\site-packages (8.0.29)\n",
      "Requirement already satisfied: protobuf>=3.0.0 in c:\\users\\jijopinks\\anaconda3\\lib\\site-packages (from mysql-connector-python) (3.19.1)\n"
     ]
    }
   ],
   "source": [
    "!pip install mysql-connector-python"
   ]
  },
  {
   "cell_type": "code",
   "execution_count": 7,
   "id": "7d848fae",
   "metadata": {},
   "outputs": [
    {
     "data": {
      "text/plain": [
       "[('information_schema',),\n",
       " ('mysql',),\n",
       " ('performance_schema',),\n",
       " ('sys',),\n",
       " ('testpaarth',),\n",
       " ('testpinks',),\n",
       " ('testsudh',)]"
      ]
     },
     "execution_count": 7,
     "metadata": {},
     "output_type": "execute_result"
    }
   ],
   "source": [
    "import mysql.connector as conn\n",
    "mydb = conn.connect(host = 'localhost',user = 'root' ,passwd = \"mysql\" )\n",
    "mydb\n",
    "cursor = mydb.cursor()\n",
    "cursor.execute(\"show databases\")\n",
    "cursor.fetchall()"
   ]
  },
  {
   "cell_type": "code",
   "execution_count": 8,
   "id": "2d97b3cc",
   "metadata": {},
   "outputs": [],
   "source": [
    "cursor.execute('use testpinks')"
   ]
  },
  {
   "cell_type": "code",
   "execution_count": 9,
   "id": "727375e9",
   "metadata": {},
   "outputs": [],
   "source": [
    "cursor.execute('create table testpinks.Worker(Emp_Id INT(10), FIRST_NAME VARCHAR(30), LAST_NAME VARCHAR(30), DEPARTMENT VARCHAR(30))')"
   ]
  },
  {
   "cell_type": "code",
   "execution_count": 10,
   "id": "c115b690",
   "metadata": {},
   "outputs": [],
   "source": [
    "cursor.execute('use testpinks')"
   ]
  },
  {
   "cell_type": "code",
   "execution_count": 11,
   "id": "e1e0dea8",
   "metadata": {},
   "outputs": [],
   "source": [
    "cursor.execute('show tables')"
   ]
  },
  {
   "cell_type": "code",
   "execution_count": 12,
   "id": "3bb41b02",
   "metadata": {},
   "outputs": [
    {
     "data": {
      "text/plain": [
       "[('glassdata',), ('practice',), ('worker',)]"
      ]
     },
     "execution_count": 12,
     "metadata": {},
     "output_type": "execute_result"
    }
   ],
   "source": [
    "cursor.fetchall()"
   ]
  },
  {
   "cell_type": "code",
   "execution_count": 13,
   "id": "94801e07",
   "metadata": {},
   "outputs": [],
   "source": [
    "cursor.execute('insert into testpinks.worker values(1111, \"Rajan\", \"Das\",\"grasscutter\")')"
   ]
  },
  {
   "cell_type": "code",
   "execution_count": 14,
   "id": "b46444ef",
   "metadata": {},
   "outputs": [],
   "source": [
    "cursor.execute('insert into testpinks.worker values(2222, \"Ram\", \"AAaa\",\"plumber\")')"
   ]
  },
  {
   "cell_type": "code",
   "execution_count": 15,
   "id": "ffec54a1",
   "metadata": {},
   "outputs": [],
   "source": [
    "cursor.execute('insert into testpinks.worker values(3333, \"John\", \"Kuy\",\"plumber\")')"
   ]
  },
  {
   "cell_type": "code",
   "execution_count": null,
   "id": "7c82fefa",
   "metadata": {},
   "outputs": [],
   "source": [
    "cursor.execute('insert into testpinks.worker values(4444, \"karan\", \"Ras\",\"plumber\")')"
   ]
  },
  {
   "cell_type": "code",
   "execution_count": 16,
   "id": "80d71e6c",
   "metadata": {},
   "outputs": [],
   "source": [
    "cursor.execute('insert into testpinks.worker values(5555, \"Romaa\", \"Das\",\"plumber\")')"
   ]
  },
  {
   "cell_type": "code",
   "execution_count": 17,
   "id": "6dc1e754",
   "metadata": {},
   "outputs": [],
   "source": [
    "cursor.execute('insert into testpinks.worker values(6666, \"Christo\", \"Pam\",\"grasscutter\")')"
   ]
  },
  {
   "cell_type": "code",
   "execution_count": 18,
   "id": "b1c834b3",
   "metadata": {},
   "outputs": [],
   "source": [
    "mydb.commit()"
   ]
  },
  {
   "cell_type": "code",
   "execution_count": 19,
   "id": "b298668e",
   "metadata": {},
   "outputs": [],
   "source": [
    "cursor.execute('select * from testpinks.worker')"
   ]
  },
  {
   "cell_type": "code",
   "execution_count": 20,
   "id": "3e83ff17",
   "metadata": {},
   "outputs": [
    {
     "data": {
      "text/plain": [
       "[(1111, 'Rajan', 'Das', 'grasscutter'),\n",
       " (2222, 'Ram', 'AAaa', 'plumber'),\n",
       " (3333, 'John', 'Kuy', 'plumber'),\n",
       " (5555, 'Romaa', 'Das', 'plumber'),\n",
       " (6666, 'Christo', 'Pam', 'grasscutter')]"
      ]
     },
     "execution_count": 20,
     "metadata": {},
     "output_type": "execute_result"
    }
   ],
   "source": [
    "cursor.fetchall()"
   ]
  },
  {
   "cell_type": "code",
   "execution_count": 23,
   "id": "87c45940",
   "metadata": {},
   "outputs": [],
   "source": [
    "cursor.execute('select FIRST_NAME as WORKER_NAME from testpinks.worker')"
   ]
  },
  {
   "cell_type": "code",
   "execution_count": 24,
   "id": "8c6f9de2",
   "metadata": {},
   "outputs": [
    {
     "data": {
      "text/plain": [
       "[('Rajan',), ('Ram',), ('John',), ('Romaa',), ('Christo',)]"
      ]
     },
     "execution_count": 24,
     "metadata": {},
     "output_type": "execute_result"
    }
   ],
   "source": [
    "cursor.fetchall()"
   ]
  },
  {
   "cell_type": "markdown",
   "id": "33743735",
   "metadata": {},
   "source": [
    "Q-2. Write an SQL query to fetch unique values of DEPARTMENT from Worker table.\n"
   ]
  },
  {
   "cell_type": "markdown",
   "id": "69d896f2",
   "metadata": {},
   "source": [
    "Ans:"
   ]
  },
  {
   "cell_type": "code",
   "execution_count": 25,
   "id": "04a86036",
   "metadata": {},
   "outputs": [],
   "source": [
    "cursor.execute('SELECT DISTINCT DEPARTMENT from testpinks.worker')"
   ]
  },
  {
   "cell_type": "code",
   "execution_count": 26,
   "id": "0c1e8d20",
   "metadata": {},
   "outputs": [
    {
     "data": {
      "text/plain": [
       "[('grasscutter',), ('plumber',)]"
      ]
     },
     "execution_count": 26,
     "metadata": {},
     "output_type": "execute_result"
    }
   ],
   "source": [
    "cursor.fetchall()"
   ]
  },
  {
   "cell_type": "markdown",
   "id": "b7fcdbd5",
   "metadata": {},
   "source": [
    "Q-3. Write an SQL query to show the last 5 record from a table.\n"
   ]
  },
  {
   "cell_type": "markdown",
   "id": "74646a26",
   "metadata": {},
   "source": [
    "Ans:"
   ]
  },
  {
   "cell_type": "code",
   "execution_count": 27,
   "id": "062e8ba8",
   "metadata": {},
   "outputs": [],
   "source": [
    "cursor.execute('SELECT * from testpinks.worker ORDER BY emp_ID LIMIT 5')"
   ]
  },
  {
   "cell_type": "code",
   "execution_count": 28,
   "id": "4f956ccc",
   "metadata": {},
   "outputs": [
    {
     "data": {
      "text/plain": [
       "[(1111, 'Rajan', 'Das', 'grasscutter'),\n",
       " (2222, 'Ram', 'AAaa', 'plumber'),\n",
       " (3333, 'John', 'Kuy', 'plumber'),\n",
       " (5555, 'Romaa', 'Das', 'plumber'),\n",
       " (6666, 'Christo', 'Pam', 'grasscutter')]"
      ]
     },
     "execution_count": 28,
     "metadata": {},
     "output_type": "execute_result"
    }
   ],
   "source": [
    "cursor.fetchall()"
   ]
  }
 ],
 "metadata": {
  "kernelspec": {
   "display_name": "Python 3 (ipykernel)",
   "language": "python",
   "name": "python3"
  },
  "language_info": {
   "codemirror_mode": {
    "name": "ipython",
    "version": 3
   },
   "file_extension": ".py",
   "mimetype": "text/x-python",
   "name": "python",
   "nbconvert_exporter": "python",
   "pygments_lexer": "ipython3",
   "version": "3.9.12"
  }
 },
 "nbformat": 4,
 "nbformat_minor": 5
}
